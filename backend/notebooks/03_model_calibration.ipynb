{
 "cells": [
  {
   "cell_type": "markdown",
   "metadata": {},
   "source": [
    "# 03 Model Calibration\n",
    "This notebook focuses on calibrating valuation and risk models using historical and market data."
   ]
  },
  {
   "cell_type": "code",
   "execution_count": null,
   "metadata": {},
   "outputs": [],
   "source": [
    "import pandas as pd\n",
    "import numpy as np\n",
    "import matplotlib.pyplot as plt\n",
    "from sklearn.linear_model import LinearRegression\n",
    "from sklearn.metrics import r2_score, mean_squared_error"
   ]
  },
  {
   "cell_type": "markdown",
   "metadata": {},
   "source": [
    "## Load Historical Data"
   ]
  },
  {
   "cell_type": "code",
   "execution_count": null,
   "metadata": {},
   "outputs": [],
   "source": [
    "# Example: load equity returns and factor returns (CSV placeholders)\n",
    "equities = pd.read_csv('./data/equity_returns.csv', parse_dates=['date'])\n",
    "factors = pd.read_csv('./data/factor_returns.csv', parse_dates=['date'])\n",
    "\n",
    "df = pd.merge(equities, factors, on='date')\n",
    "df.head()"
   ]
  },
  {
   "cell_type": "markdown",
   "metadata": {},
   "source": [
    "## Factor Model Calibration (Example: CAPM)"
   ]
  },
  {
   "cell_type": "code",
   "execution_count": null,
   "metadata": {},
   "outputs": [],
   "source": [
    "y = df['equity_return'].values.reshape(-1,1) # type: ignore\n",
    "X = df[['market_return']].values\n",
    "\n",
    "model = LinearRegression().fit(X, y)\n",
    "beta = model.coef_[0][0]\n",
    "alpha = model.intercept_[0] # type: ignore\n",
    "\n",
    "preds = model.predict(X)\n",
    "r2 = r2_score(y, preds)\n",
    "mse = mean_squared_error(y, preds)\n",
    "\n",
    "print(f\"Alpha: {alpha:.4f}, Beta: {beta:.4f}, R^2: {r2:.3f}, MSE: {mse:.5f}\")"
   ]
  },
  {
   "cell_type": "markdown",
   "metadata": {},
   "source": [
    "## Visualize Fit"
   ]
  },
  {
   "cell_type": "code",
   "execution_count": null,
   "metadata": {},
   "outputs": [],
   "source": [
    "plt.figure(figsize=(6,4))\n",
    "plt.scatter(X, y, alpha=0.5, label='Observed')\n",
    "plt.plot(X, preds, color='red', label='Fitted')\n",
    "plt.xlabel('Market Return')\n",
    "plt.ylabel('Equity Return')\n",
    "plt.title('CAPM Calibration')\n",
    "plt.legend()\n",
    "plt.show()"
   ]
  },
  {
   "cell_type": "markdown",
   "metadata": {},
   "source": [
    "## Multi-Factor Model Calibration"
   ]
  },
  {
   "cell_type": "code",
   "execution_count": null,
   "metadata": {},
   "outputs": [],
   "source": [
    "factors_list = ['market_return', 'smb', 'hml']  # Example: Fama-French 3 factor\n",
    "X_multi = df[factors_list].values\n",
    "y = df['equity_return'].values\n",
    "\n",
    "model_multi = LinearRegression().fit(X_multi, y) # type: ignore\n",
    "coeffs = dict(zip(factors_list, model_multi.coef_))\n",
    "\n",
    "print(\"Factor loadings:\")\n",
    "for k,v in coeffs.items():\n",
    "    print(f\"  {k}: {v:.4f}\")"
   ]
  },
  {
   "cell_type": "markdown",
   "metadata": {},
   "source": [
    "## Save Calibrated Parameters"
   ]
  },
  {
   "cell_type": "code",
   "execution_count": null,
   "metadata": {},
   "outputs": [],
   "source": [
    "params = {\n",
    "    'alpha': float(alpha),\n",
    "    'beta': float(beta),\n",
    "    'multi_factor_loadings': coeffs,\n",
    "}\n",
    "pd.Series(params).to_json('./data/calibrated_params.json')\n",
    "print(\"Saved calibrated parameters to ./data/calibrated_params.json\")"
   ]
  }
 ],
 "metadata": {
  "kernelspec": {
   "display_name": "Python 3",
   "language": "python",
   "name": "python3"
  },
  "language_info": {
   "codemirror_mode": {
    "name": "ipython",
    "version": 3
   },
   "file_extension": ".py",
   "mimetype": "text/x-python",
   "name": "python",
   "nbconvert_exporter": "python",
   "pygments_lexer": "ipython3",
   "version": "3.10"
  }
 },
 "nbformat": 4,
 "nbformat_minor": 5
}
