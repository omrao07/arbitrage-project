{
 "cells": [
  {
   "cell_type": "markdown",
   "id": "3c71c76b",
   "metadata": {},
   "source": [
    "# Factor IC Analysis\n",
    "\n",
    "This notebook evaluates **factor predictive power** using **Information Coefficient (IC)** and **Information Ratio (IR)**.\n",
    "We compute daily IC between factor values and forward returns, visualize results, and assess factor quality.\n",
    "\n",
    "---\n"
   ]
  },
  {
   "cell_type": "code",
   "execution_count": null,
   "id": "3b239865",
   "metadata": {},
   "outputs": [],
   "source": [
    "\n",
    "import numpy as np\n",
    "import pandas as pd\n",
    "import matplotlib.pyplot as plt\n",
    "\n",
    "from scipy.stats import spearmanr\n"
   ]
  },
  {
   "cell_type": "markdown",
   "id": "ca7282cf",
   "metadata": {},
   "source": [
    "## 1. Generate Synthetic Factor & Returns Data"
   ]
  },
  {
   "cell_type": "code",
   "execution_count": null,
   "id": "7470a3a1",
   "metadata": {},
   "outputs": [],
   "source": [
    "\n",
    "np.random.seed(42)\n",
    "n_assets, n_days = 100, 250\n",
    "\n",
    "# Simulated factor values (e.g., value, momentum, quality scores)\n",
    "factors = pd.DataFrame(\n",
    "    np.random.randn(n_days, n_assets),\n",
    "    index=pd.date_range(\"2023-01-01\", periods=n_days, freq=\"B\")\n",
    ")\n",
    "\n",
    "# Simulated forward returns with some signal correlation\n",
    "noise = np.random.randn(n_days, n_assets)\n",
    "forward_returns = 0.05 * factors.shift(1) + 0.95 * noise\n",
    "\n",
    "factors.head(), forward_returns.head()\n"
   ]
  },
  {
   "cell_type": "markdown",
   "id": "eaa3fecc",
   "metadata": {},
   "source": [
    "## 2. Compute Daily Information Coefficient (Spearman Rank)"
   ]
  },
  {
   "cell_type": "code",
   "execution_count": null,
   "id": "aaabf97e",
   "metadata": {},
   "outputs": [],
   "source": [
    "\n",
    "def compute_daily_ic(factors: pd.DataFrame, returns: pd.DataFrame):\n",
    "    ics = []\n",
    "    for dt in factors.index:\n",
    "        x = factors.loc[dt].values\n",
    "        y = returns.loc[dt].values\n",
    "        if np.isnan(x).any() or np.isnan(y).any():\n",
    "            continue\n",
    "        ic, _ = spearmanr(x, y)\n",
    "        ics.append((dt, ic))\n",
    "    return pd.Series(dict(ics))\n",
    "\n",
    "ics = compute_daily_ic(factors, forward_returns)\n",
    "ics.head()\n"
   ]
  },
  {
   "cell_type": "markdown",
   "id": "fa9b38b9",
   "metadata": {},
   "source": [
    "## 3. Plot IC Time Series"
   ]
  },
  {
   "cell_type": "code",
   "execution_count": null,
   "id": "c5b72bdf",
   "metadata": {},
   "outputs": [],
   "source": [
    "\n",
    "plt.figure(figsize=(12,4))\n",
    "ics.plot()\n",
    "plt.axhline(0, color=\"black\", lw=1)\n",
    "plt.title(\"Daily Information Coefficient (IC)\")\n",
    "plt.ylabel(\"Spearman Rank IC\")\n",
    "plt.show()\n"
   ]
  },
  {
   "cell_type": "markdown",
   "id": "347bc10e",
   "metadata": {},
   "source": [
    "## 4. Summary Statistics"
   ]
  },
  {
   "cell_type": "code",
   "execution_count": null,
   "id": "f8feb640",
   "metadata": {},
   "outputs": [],
   "source": [
    "\n",
    "mean_ic = ics.mean()\n",
    "std_ic = ics.std()\n",
    "ir = mean_ic / std_ic # type: ignore\n",
    "\n",
    "print(f\"Mean IC: {mean_ic:.4f}\")\n",
    "print(f\"Std IC: {std_ic:.4f}\")\n",
    "print(f\"Information Ratio (IR): {ir:.4f}\")\n"
   ]
  },
  {
   "cell_type": "markdown",
   "id": "e53e2697",
   "metadata": {},
   "source": [
    "## 5. Distribution of ICs"
   ]
  },
  {
   "cell_type": "code",
   "execution_count": null,
   "id": "869bba23",
   "metadata": {},
   "outputs": [],
   "source": [
    "\n",
    "plt.figure(figsize=(8,4))\n",
    "ics.hist(bins=30, edgecolor=\"black\")\n",
    "plt.title(\"Distribution of Daily ICs\")\n",
    "plt.xlabel(\"IC value\")\n",
    "plt.ylabel(\"Frequency\")\n",
    "plt.show()\n"
   ]
  }
 ],
 "metadata": {
  "language_info": {
   "name": "python"
  }
 },
 "nbformat": 4,
 "nbformat_minor": 5
}
