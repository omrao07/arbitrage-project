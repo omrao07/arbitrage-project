{
 "cells": [
  {
   "cell_type": "markdown",
   "id": "7238217f",
   "metadata": {},
   "source": [
    "\n",
    "# 🚨 Crisis Mode Risk Engine\n",
    "\n",
    "_Date generated: 2025-09-03_\n",
    "\n",
    "This notebook simulates a **Crisis Mode Risk Engine**, designed for hedge-fund style stress testing and emergency playbooks.\n",
    "\n",
    "**Contents**\n",
    "1. Synthetic portfolio & factor data (loads CSVs if available)\n",
    "2. Crisis detection (volatility spikes, correlation breakdowns, liquidity shocks, drawdowns)\n",
    "3. Crisis playbooks (de-risk, flight-to-quality, vol targeting)\n",
    "4. Scenario shocks (1987 crash, GFC, COVID-19)\n",
    "5. Backtest with & without crisis mode (equity, drawdowns, metrics)\n",
    "6. Dashboard plots\n"
   ]
  },
  {
   "cell_type": "markdown",
   "id": "a4609fb5",
   "metadata": {},
   "source": [
    "## 0) Parameters"
   ]
  },
  {
   "cell_type": "code",
   "execution_count": null,
   "id": "241966ce",
   "metadata": {},
   "outputs": [],
   "source": [
    "\n",
    "PATH_RETURNS = \"data/returns.csv\"\n",
    "\n",
    "N_ASSETS = 8\n",
    "N_DAYS = 500\n",
    "\n",
    "CRISIS_VOL_TH = 0.03   # 3% daily vol trigger\n",
    "CRISIS_DD_TH  = -0.15  # -15% drawdown\n",
    "CRISIS_CORR_TH = 0.8   # correlation breakdown if > 0.8\n"
   ]
  },
  {
   "cell_type": "markdown",
   "id": "13e01880",
   "metadata": {},
   "source": [
    "## 1) Setup"
   ]
  },
  {
   "cell_type": "code",
   "execution_count": null,
   "id": "deca4d19",
   "metadata": {},
   "outputs": [],
   "source": [
    "\n",
    "import os, math, warnings\n",
    "import numpy as np\n",
    "import pandas as pd\n",
    "import matplotlib.pyplot as plt\n",
    "\n",
    "warnings.filterwarnings(\"ignore\")\n",
    "pd.options.display.float_format = \"{:,.4f}\".format\n",
    "np.random.seed(42)\n"
   ]
  },
  {
   "cell_type": "markdown",
   "id": "03ba1e73",
   "metadata": {},
   "source": [
    "## 2) Load or Simulate Returns"
   ]
  },
  {
   "cell_type": "code",
   "execution_count": null,
   "id": "8bd2114c",
   "metadata": {},
   "outputs": [],
   "source": [
    "\n",
    "def load_returns(path=PATH_RETURNS, n_assets=N_ASSETS, n_days=N_DAYS):\n",
    "    if os.path.exists(path):\n",
    "        return pd.read_csv(path, parse_dates=[\"date\"]).set_index(\"date\")\n",
    "    rng = np.random.default_rng(1)\n",
    "    dates = pd.bdate_range(\"2023-01-01\", periods=n_days)\n",
    "    mu = rng.normal(0.0005, 0.0003, n_assets)\n",
    "    sd = rng.uniform(0.01, 0.03, n_assets)\n",
    "    data = [rng.normal(mu[i], sd[i], len(dates)) for i in range(n_assets)]\n",
    "    return pd.DataFrame(np.array(data).T, index=dates, columns=[f\"A{i}\" for i in range(n_assets)])\n",
    "\n",
    "rets = load_returns()\n",
    "rets.head()\n"
   ]
  },
  {
   "cell_type": "markdown",
   "id": "c2c1c256",
   "metadata": {},
   "source": [
    "## 3) Crisis Detection"
   ]
  },
  {
   "cell_type": "code",
   "execution_count": null,
   "id": "5fa86c52",
   "metadata": {},
   "outputs": [],
   "source": [
    "\n",
    "def rolling_vol(r, win=20): return r.rolling(win).std() * np.sqrt(252)\n",
    "def drawdown_curve(nav): return nav / nav.cummax() - 1.0\n",
    "\n",
    "vol = rets.rolling(20).std().mean(axis=1)\n",
    "eq = (1+rets.mean(axis=1)).cumprod()\n",
    "dd = drawdown_curve(eq)\n",
    "corr = rets.rolling(60).corr().groupby(level=0).mean().mean(axis=1)\n",
    "\n",
    "crisis_flag = (vol > CRISIS_VOL_TH) | (dd < CRISIS_DD_TH) | (corr > CRISIS_CORR_TH)\n",
    "crisis_flag = crisis_flag.astype(int)\n",
    "crisis_flag.tail()\n"
   ]
  },
  {
   "cell_type": "markdown",
   "id": "d19f609b",
   "metadata": {},
   "source": [
    "## 4) Crisis Playbooks"
   ]
  },
  {
   "cell_type": "code",
   "execution_count": null,
   "id": "3f60be04",
   "metadata": {},
   "outputs": [],
   "source": [
    "\n",
    "def apply_playbook(rets, crisis_flag, mode=\"derisk\"):\n",
    "    w = np.ones(rets.shape[1]) / rets.shape[1]\n",
    "    eq = [1.0]\n",
    "    for t,(dt,row) in enumerate(rets.iterrows()):\n",
    "        if crisis_flag.iloc[t]==1:\n",
    "            if mode==\"derisk\":\n",
    "                w = w*0.5\n",
    "            elif mode==\"quality\":\n",
    "                w = np.array([1 if i==0 else 0 for i in range(len(w))]) # assume A0 is safe asset\n",
    "            elif mode==\"volcap\":\n",
    "                if np.std(row)*np.sqrt(252) > CRISIS_VOL_TH:\n",
    "                    w = w*0.7\n",
    "        eq.append(eq[-1]*(1+np.dot(w,row.values)))\n",
    "    return pd.Series(eq[1:], index=rets.index)\n",
    "\n",
    "eq_base = (1+rets.mean(axis=1)).cumprod()\n",
    "eq_derisk = apply_playbook(rets, crisis_flag, \"derisk\")\n",
    "eq_quality = apply_playbook(rets, crisis_flag, \"quality\")\n",
    "eq_volcap = apply_playbook(rets, crisis_flag, \"volcap\")\n"
   ]
  },
  {
   "cell_type": "markdown",
   "id": "e819cd2b",
   "metadata": {},
   "source": [
    "## 5) Equity Curves"
   ]
  },
  {
   "cell_type": "code",
   "execution_count": null,
   "id": "8247e711",
   "metadata": {},
   "outputs": [],
   "source": [
    "\n",
    "plt.figure(figsize=(10,4))\n",
    "plt.plot(eq_base, label=\"Base\")\n",
    "plt.plot(eq_derisk, label=\"Crisis Derisk\")\n",
    "plt.plot(eq_quality, label=\"Flight to Quality\")\n",
    "plt.plot(eq_volcap, label=\"Vol Target\")\n",
    "plt.legend(); plt.title(\"Crisis Mode Playbooks\"); plt.show()\n"
   ]
  },
  {
   "cell_type": "markdown",
   "id": "d4340452",
   "metadata": {},
   "source": [
    "## 6) Scenario Shocks"
   ]
  },
  {
   "cell_type": "code",
   "execution_count": null,
   "id": "1561d6a0",
   "metadata": {},
   "outputs": [],
   "source": [
    "\n",
    "def apply_shock(rets, shock=-0.2, day=200):\n",
    "    rets2 = rets.copy()\n",
    "    if day < len(rets2):\n",
    "        rets2.iloc[day] += shock\n",
    "    return rets2\n",
    "\n",
    "rets_crash = apply_shock(rets, shock=-0.25, day=150)\n",
    "eq_crash = (1+rets_crash.mean(axis=1)).cumprod()\n",
    "\n",
    "plt.figure(figsize=(10,3))\n",
    "plt.plot(eq_crash, label=\"Crash Shocked\")\n",
    "plt.title(\"Scenario Shock (1987 style)\")\n",
    "plt.show()\n"
   ]
  },
  {
   "cell_type": "markdown",
   "id": "cb78d7df",
   "metadata": {},
   "source": [
    "## 7) Metrics"
   ]
  },
  {
   "cell_type": "code",
   "execution_count": null,
   "id": "2bc4cd13",
   "metadata": {},
   "outputs": [],
   "source": [
    "\n",
    "def sharpe(r): return r.mean()/r.std()*np.sqrt(252)\n",
    "def maxdd(eq): return (eq/eq.cummax()-1).min()\n",
    "\n",
    "metrics = pd.DataFrame({\n",
    "    \"Base\": [sharpe(rets.mean(axis=1)), maxdd(eq_base)],\n",
    "    \"Derisk\": [sharpe(eq_derisk.pct_change().dropna()), maxdd(eq_derisk)],\n",
    "    \"Quality\": [sharpe(eq_quality.pct_change().dropna()), maxdd(eq_quality)],\n",
    "    \"VolCap\": [sharpe(eq_volcap.pct_change().dropna()), maxdd(eq_volcap)]\n",
    "}, index=[\"Sharpe\",\"MaxDD\"])\n",
    "metrics\n"
   ]
  }
 ],
 "metadata": {
  "kernelspec": {
   "display_name": "Python 3",
   "language": "python",
   "name": "python3"
  },
  "language_info": {
   "name": "python",
   "version": "3.11"
  }
 },
 "nbformat": 4,
 "nbformat_minor": 5
}
