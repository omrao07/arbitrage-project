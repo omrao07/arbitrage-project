{
 "cells": [
  {
   "cell_type": "markdown",
   "id": "6b8049bf",
   "metadata": {},
   "source": [
    "\n",
    "# 🌦️ Alt-Data: Weather → Market Signals\n",
    "\n",
    "_Date generated: 2025-09-03_\n",
    "\n",
    "This notebook builds **weather-derived trading signals** and tests if they have **predictive power** for assets\n",
    "(equities/commodities/FX) via regional mapping.\n",
    "\n",
    "**What’s inside**\n",
    "- Data loaders: prices (CSV) and weather (Open‑Meteo API) with **offline synthetic fallback**\n",
    "- Feature engineering: **temperature anomaly**, **HDD/CDD**, **precipitation/ wind / storm** signals\n",
    "- Region mapper: map tickers to geo locations\n",
    "- Cross‑sectional backtest: rank long/short with costs, risk targeting\n",
    "- Diagnostics: IC/IR, factor regression vs returns, rolling performance\n"
   ]
  },
  {
   "cell_type": "markdown",
   "id": "c1cf50a1",
   "metadata": {},
   "source": [
    "## 0) Parameters"
   ]
  },
  {
   "cell_type": "code",
   "execution_count": null,
   "id": "9168fe93",
   "metadata": {},
   "outputs": [],
   "source": [
    "\n",
    "PATH_PRICES = \"data/prices.csv\"            # wide: date, tickers...\n",
    "PATH_MAP    = \"data/asset_geo_map.csv\"     # ticker, region, lat, lon\n",
    "\n",
    "DEFAULT_REGIONS = [\n",
    "    {\"region\": \"US\", \"city\": \"New York\", \"lat\": 40.7128, \"lon\": -74.0060, \"tickers\": [\"AAPL\",\"MSFT\",\"SPY\",\"CORN\"]},\n",
    "    {\"region\": \"EU\", \"city\": \"Frankfurt\", \"lat\": 50.1109, \"lon\": 8.6821,   \"tickers\": [\"SAP\",\"DAX\",\"HEAT\"]},\n",
    "    {\"region\": \"IN\", \"city\": \"Mumbai\",    \"lat\": 19.0760, \"lon\": 72.8777,  \"tickers\": [\"RELIANCE.NS\",\"NIFTY\",\"SUGR\"]},\n",
    "]\n",
    "\n",
    "DAYS = 365\n",
    "LOOKBACK_T_ANOM  = 30\n",
    "LOOKBACK_HDDCDD  = 7\n",
    "TOP_N = 5\n",
    "TARGET_VOL_ANNUAL = 0.10\n",
    "\n",
    "COMMISSION_BPS = 0.2\n",
    "SLIPPAGE_BPS   = 1.0\n"
   ]
  },
  {
   "cell_type": "markdown",
   "id": "6d0d1677",
   "metadata": {},
   "source": [
    "## 1) Setup & Helpers"
   ]
  },
  {
   "cell_type": "code",
   "execution_count": null,
   "id": "d47953b0",
   "metadata": {},
   "outputs": [],
   "source": [
    "\n",
    "import os, math, warnings\n",
    "import numpy as np\n",
    "import pandas as pd\n",
    "import matplotlib.pyplot as plt\n",
    "\n",
    "pd.options.display.float_format = \"{:,.6f}\".format\n",
    "warnings.filterwarnings(\"ignore\")\n",
    "\n",
    "try:\n",
    "    import requests\n",
    "    HAS_REQ = True\n",
    "except Exception:\n",
    "    HAS_REQ = False\n",
    "\n",
    "def drawdown_curve(nav: pd.Series) -> pd.Series:\n",
    "    rm = nav.cummax()\n",
    "    return nav/rm - 1.0\n",
    "\n",
    "def pct_change_safe(x: pd.DataFrame) -> pd.DataFrame:\n",
    "    return x.pct_change().replace([np.inf, -np.inf], np.nan)\n",
    "\n",
    "def cs_rank(df: pd.DataFrame) -> pd.DataFrame:\n",
    "    return df.rank(axis=1, pct=True).subtract(0.5) * 2.0\n"
   ]
  },
  {
   "cell_type": "markdown",
   "id": "a73f9acc",
   "metadata": {},
   "source": [
    "## 2) Load Prices (CSV or synthetic)"
   ]
  },
  {
   "cell_type": "code",
   "execution_count": null,
   "id": "fe97bba1",
   "metadata": {},
   "outputs": [],
   "source": [
    "\n",
    "def load_prices(path=PATH_PRICES, n_assets=12, n_days=500, seed=7):\n",
    "    if os.path.exists(path):\n",
    "        df = pd.read_csv(path, parse_dates=['date']).set_index('date').sort_index()\n",
    "        return df\n",
    "    rng = np.random.default_rng(seed)\n",
    "    dates = pd.bdate_range(\"2023-01-01\", periods=n_days)\n",
    "    market = rng.normal(0.0003, 0.009, size=len(dates))\n",
    "    regions = {\"US\": rng.normal(0.0001, 0.006, size=len(dates)),\n",
    "               \"EU\": rng.normal(0.0001, 0.006, size=len(dates)),\n",
    "               \"IN\": rng.normal(0.0002, 0.008, size=len(dates))}\n",
    "    groups = [(\"AAPL\",\"US\"),(\"MSFT\",\"US\"),(\"SPY\",\"US\"),(\"CORN\",\"US\"),\n",
    "              (\"SAP\",\"EU\"),(\"DAX\",\"EU\"),(\"HEAT\",\"EU\"),\n",
    "              (\"RELIANCE.NS\",\"IN\"),(\"NIFTY\",\"IN\"),(\"SUGR\",\"IN\")]\n",
    "    data = {}\n",
    "    for name, reg in groups:\n",
    "        idio = rng.normal(0, 0.01, size=len(dates))\n",
    "        ret = market + 0.5*regions[reg] + 0.5*idio\n",
    "        data[name] = 100 * (1 + pd.Series(ret, index=dates)).cumprod()\n",
    "    return pd.DataFrame(data, index=dates)\n",
    "\n",
    "prices = load_prices()\n",
    "returns = pct_change_safe(prices).fillna(0.0)\n",
    "prices.head()\n"
   ]
  },
  {
   "cell_type": "markdown",
   "id": "46a1b007",
   "metadata": {},
   "source": [
    "## 3) Asset to Region Mapping"
   ]
  },
  {
   "cell_type": "code",
   "execution_count": null,
   "id": "db277868",
   "metadata": {},
   "outputs": [],
   "source": [
    "\n",
    "def load_asset_geo_map(path=PATH_MAP, defaults=DEFAULT_REGIONS):\n",
    "    if os.path.exists(path):\n",
    "        return pd.read_csv(path)\n",
    "    rows = []\n",
    "    for r in defaults:\n",
    "        for t in r[\"tickers\"]:\n",
    "            rows.append({\"ticker\": t, \"region\": r[\"region\"], \"lat\": r[\"lat\"], \"lon\": r[\"lon\"]})\n",
    "    return pd.DataFrame(rows)\n",
    "\n",
    "asset_geo = load_asset_geo_map()\n",
    "asset_geo.head()\n"
   ]
  },
  {
   "cell_type": "markdown",
   "id": "7985323f",
   "metadata": {},
   "source": [
    "## 4) Weather Data (synthetic fallback)"
   ]
  },
  {
   "cell_type": "code",
   "execution_count": null,
   "id": "fb6aa9e0",
   "metadata": {},
   "outputs": [],
   "source": [
    "\n",
    "def synthetic_weather(region, start, end, seed=0):\n",
    "    rng = np.random.default_rng(seed)\n",
    "    idx = pd.date_range(start, end, freq=\"D\")\n",
    "    base_temp = {\"US\": 12.0, \"EU\": 10.0, \"IN\": 26.0}.get(region, 15.0)\n",
    "    temp = base_temp + 10*np.sin(np.linspace(0, 4*np.pi, len(idx))) + rng.normal(0, 3, len(idx))\n",
    "    precip = np.clip(rng.gamma(1.2, 2.0, len(idx)) - 1.0, 0, None)\n",
    "    wind = np.abs(rng.normal(5.0, 2.0, len(idx)))\n",
    "    return pd.DataFrame({\n",
    "        \"temperature\": temp,\n",
    "        \"precipitation\": precip,\n",
    "        \"wind\": wind\n",
    "    }, index=idx)\n",
    "\n",
    "weather_panel = {reg: synthetic_weather(reg, prices.index.min(), prices.index.max(), seed=i)\n",
    "                 for i, reg in enumerate(asset_geo[\"region\"].unique())}\n",
    "list(weather_panel.keys())\n"
   ]
  },
  {
   "cell_type": "markdown",
   "id": "93918d28",
   "metadata": {},
   "source": [
    "## 5) Feature Engineering"
   ]
  },
  {
   "cell_type": "code",
   "execution_count": null,
   "id": "8e7977a2",
   "metadata": {},
   "outputs": [],
   "source": [
    "\n",
    "def weather_features(df, lb_anom=30, lb_hddcdd=7):\n",
    "    x = df.copy()\n",
    "    x[\"temp_anom\"] = x[\"temperature\"] - x[\"temperature\"].rolling(lb_anom).mean()\n",
    "    base = 18.0\n",
    "    x[\"HDD\"] = (base - x[\"temperature\"]).clip(lower=0.0)\n",
    "    x[\"CDD\"] = (x[\"temperature\"] - base).clip(lower=0.0)\n",
    "    x[\"HDD_acc\"] = x[\"HDD\"].rolling(lb_hddcdd).sum()\n",
    "    x[\"CDD_acc\"] = x[\"CDD\"].rolling(lb_hddcdd).sum()\n",
    "    x[\"precip_surprise\"] = x[\"precipitation\"] - x[\"precipitation\"].rolling(30).mean()\n",
    "    x[\"wind_z\"] = (x[\"wind\"] - x[\"wind\"].rolling(30).mean()) / (x[\"wind\"].rolling(30).std(ddof=1)+1e-9)\n",
    "    return x\n",
    "\n",
    "features_by_region = {reg: weather_features(df) for reg, df in weather_panel.items()}\n",
    "list(features_by_region.keys())\n"
   ]
  },
  {
   "cell_type": "markdown",
   "id": "418bf1c5",
   "metadata": {},
   "source": [
    "## 6) Map Features to Tickers"
   ]
  },
  {
   "cell_type": "code",
   "execution_count": null,
   "id": "9f55db54",
   "metadata": {},
   "outputs": [],
   "source": [
    "\n",
    "feat_cols = [\"temp_anom\",\"HDD_acc\",\"CDD_acc\",\"precip_surprise\",\"wind_z\"]\n",
    "signal_frames = {}\n",
    "for col in feat_cols:\n",
    "    sig = pd.DataFrame(index=prices.index, columns=prices.columns)\n",
    "    for _, row in asset_geo.iterrows():\n",
    "        tkr, reg = row[\"ticker\"], row[\"region\"]\n",
    "        if reg in features_by_region:\n",
    "            sig[tkr] = features_by_region[reg][col].reindex(prices.index).values\n",
    "    signal_frames[col] = sig\n",
    "\n",
    "weather_signal = (\n",
    "    0.4*cs_rank(signal_frames[\"temp_anom\"]) +\n",
    "    0.3*cs_rank(signal_frames[\"CDD_acc\"]-signal_frames[\"HDD_acc\"]) +\n",
    "    0.2*cs_rank(signal_frames[\"precip_surprise\"]) +\n",
    "    0.1*cs_rank(signal_frames[\"wind_z\"])\n",
    ").fillna(0.0)\n",
    "\n",
    "weather_signal.tail()\n"
   ]
  },
  {
   "cell_type": "markdown",
   "id": "f1b9aec3",
   "metadata": {},
   "source": [
    "## 7) Backtest"
   ]
  },
  {
   "cell_type": "code",
   "execution_count": null,
   "id": "27102ef4",
   "metadata": {},
   "outputs": [],
   "source": [
    "\n",
    "def build_ls_weights(signal, top_n=5, bottom_n=5):\n",
    "    w = pd.DataFrame(0.0, index=signal.index, columns=signal.columns)\n",
    "    for dt, row in signal.iterrows():\n",
    "        s = row.dropna()\n",
    "        if len(s) < (top_n+bottom_n): continue\n",
    "        longs = s.nlargest(top_n).index\n",
    "        shorts = s.nsmallest(bottom_n).index\n",
    "        w.loc[dt,longs] = 1.0/len(longs)\n",
    "        w.loc[dt,shorts] = -1.0/len(shorts)\n",
    "        w.loc[dt] -= w.loc[dt].mean()\n",
    "        g = w.loc[dt].abs().sum()\n",
    "        if g>0: w.loc[dt] /= g\n",
    "    return w\n",
    "\n",
    "def backtest(weights, returns, commission_bps=0.2, slippage_bps=1.0):\n",
    "    gross = (weights.shift(1)*returns).sum(axis=1)\n",
    "    dw = (weights-weights.shift(1)).abs().sum(axis=1)\n",
    "    cost = dw*((commission_bps+slippage_bps)/10000.0)\n",
    "    return (gross-cost).fillna(0.0)\n",
    "\n",
    "w0 = build_ls_weights(weather_signal, TOP_N, TOP_N)\n",
    "r0 = backtest(w0, returns)\n",
    "equity = (1+r0).cumprod()\n",
    "dd = drawdown_curve(equity)\n",
    "summary = {\"CAGR\": (equity.iloc[-1])**(252/len(r0))-1, \"Vol\": r0.std()*np.sqrt(252), \"Sharpe\": (r0.mean()/r0.std())*np.sqrt(252)}\n",
    "summary\n"
   ]
  },
  {
   "cell_type": "markdown",
   "id": "b7c39464",
   "metadata": {},
   "source": [
    "### Equity & Drawdown"
   ]
  },
  {
   "cell_type": "code",
   "execution_count": null,
   "id": "e377c773",
   "metadata": {},
   "outputs": [],
   "source": [
    "\n",
    "plt.figure(figsize=(10,4))\n",
    "equity.plot()\n",
    "plt.title(\"Weather Signal L/S Equity\")\n",
    "plt.show()\n",
    "\n",
    "plt.figure(figsize=(10,3))\n",
    "dd.plot()\n",
    "plt.title(\"Drawdown\")\n",
    "plt.show()\n"
   ]
  }
 ],
 "metadata": {
  "kernelspec": {
   "display_name": "Python 3",
   "language": "python",
   "name": "python3"
  },
  "language_info": {
   "name": "python",
   "version": "3.11"
  }
 },
 "nbformat": 4,
 "nbformat_minor": 5
}
