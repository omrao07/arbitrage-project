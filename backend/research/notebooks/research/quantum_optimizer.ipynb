{
 "cells": [
  {
   "cell_type": "markdown",
   "id": "fddde013",
   "metadata": {},
   "source": [
    "\n",
    "# ⚛️ Quantum Portfolio Optimizer\n",
    "\n",
    "_Date generated: 2025-09-03_\n",
    "\n",
    "This notebook demonstrates how to use **quantum-inspired optimization** for portfolio allocation.\n",
    "\n",
    "**Contents:**\n",
    "- Generate/load asset return & covariance data\n",
    "- Classical Markowitz efficient frontier\n",
    "- QUBO formulation of mean-variance optimization\n",
    "- Solve using **dimod** simulated annealer (D-Wave compatible)\n",
    "- Compare vs classical optimizers\n",
    "- Visualize allocations & efficient frontier\n"
   ]
  },
  {
   "cell_type": "markdown",
   "id": "726b242d",
   "metadata": {},
   "source": [
    "## 0) Parameters"
   ]
  },
  {
   "cell_type": "code",
   "execution_count": null,
   "id": "0453720d",
   "metadata": {},
   "outputs": [],
   "source": [
    "\n",
    "PATH_RETURNS = \"data/returns.csv\"\n",
    "N_ASSETS = 8\n",
    "N_DAYS = 250\n",
    "\n",
    "RISK_AVERSION = 0.5  # lambda for risk-return tradeoff\n",
    "\n",
    "SEED = 42\n"
   ]
  },
  {
   "cell_type": "markdown",
   "id": "42caad3c",
   "metadata": {},
   "source": [
    "## 1) Setup"
   ]
  },
  {
   "cell_type": "code",
   "execution_count": null,
   "id": "0c739369",
   "metadata": {},
   "outputs": [],
   "source": [
    "\n",
    "import os, math, warnings\n",
    "import numpy as np\n",
    "import pandas as pd\n",
    "import matplotlib.pyplot as plt\n",
    "\n",
    "warnings.filterwarnings(\"ignore\")\n",
    "pd.options.display.float_format = \"{:,.4f}\".format\n",
    "\n",
    "try:\n",
    "    import dimod\n",
    "    HAS_DIMOD = True\n",
    "except ImportError:\n",
    "    HAS_DIMOD = False\n"
   ]
  },
  {
   "cell_type": "markdown",
   "id": "ed303761",
   "metadata": {},
   "source": [
    "## 2) Load or Simulate Data"
   ]
  },
  {
   "cell_type": "code",
   "execution_count": null,
   "id": "8dea4950",
   "metadata": {},
   "outputs": [],
   "source": [
    "\n",
    "def load_returns(path=PATH_RETURNS, n_assets=N_ASSETS, n_days=N_DAYS, seed=SEED):\n",
    "    if os.path.exists(path):\n",
    "        df = pd.read_csv(path, parse_dates=[\"date\"]).set_index(\"date\")\n",
    "        return df\n",
    "    rng = np.random.default_rng(seed)\n",
    "    dates = pd.bdate_range(\"2023-01-01\", periods=n_days)\n",
    "    mu = rng.normal(0.0005, 0.0002, n_assets)\n",
    "    cov = np.diag(rng.uniform(0.0001,0.0003,n_assets))\n",
    "    data = rng.multivariate_normal(mu, cov, size=n_days)\n",
    "    cols = [f\"A{i}\" for i in range(n_assets)]\n",
    "    return pd.DataFrame(data, index=dates, columns=cols)\n",
    "\n",
    "rets = load_returns()\n",
    "mu = rets.mean().values\n",
    "cov = rets.cov().values\n",
    "\n",
    "rets.head()\n"
   ]
  },
  {
   "cell_type": "markdown",
   "id": "d2d8ac8e",
   "metadata": {},
   "source": [
    "## 3) Classical Mean-Variance Frontier"
   ]
  },
  {
   "cell_type": "code",
   "execution_count": null,
   "id": "ab488d2d",
   "metadata": {},
   "outputs": [],
   "source": [
    "\n",
    "from scipy.optimize import minimize\n",
    "\n",
    "def port_stats(w, mu, cov):\n",
    "    r = np.dot(w, mu)\n",
    "    v = np.dot(w, np.dot(cov, w))\n",
    "    return r, v, r/np.sqrt(v) if v>0 else np.nan\n",
    "\n",
    "def solve_classical(mu, cov, lmbd=RISK_AVERSION):\n",
    "    n = len(mu)\n",
    "    cons = ({'type':'eq','fun':lambda w: np.sum(w)-1})\n",
    "    bounds = [(0,1)]*n\n",
    "    def obj(w): return -(np.dot(w,mu) - lmbd*np.dot(w,np.dot(cov,w)))\n",
    "    res = minimize(obj, np.ones(n)/n, bounds=bounds, constraints=cons)\n",
    "    return res.x if res.success else np.ones(n)/n\n",
    "\n",
    "w_classical = solve_classical(mu,cov)\n",
    "port_stats(w_classical, mu, cov)\n"
   ]
  },
  {
   "cell_type": "markdown",
   "id": "c82d8cf8",
   "metadata": {},
   "source": [
    "## 4) QUBO Formulation"
   ]
  },
  {
   "cell_type": "code",
   "execution_count": null,
   "id": "f0b2cd47",
   "metadata": {},
   "outputs": [],
   "source": [
    "\n",
    "def build_qubo(mu, cov, lmbd=RISK_AVERSION, scale=100):\n",
    "    n = len(mu)\n",
    "    Q = {}\n",
    "    for i in range(n):\n",
    "        Q[(i,i)] = -mu[i]*scale + lmbd*cov[i,i]*scale\n",
    "        for j in range(i+1,n):\n",
    "            Q[(i,j)] = lmbd*cov[i,j]*scale\n",
    "    return Q\n",
    "\n",
    "Q = build_qubo(mu,cov)\n",
    "list(Q.items())[:5]\n"
   ]
  },
  {
   "cell_type": "markdown",
   "id": "b9201374",
   "metadata": {},
   "source": [
    "## 5) Quantum-Inspired Solution (dimod annealer)"
   ]
  },
  {
   "cell_type": "code",
   "execution_count": null,
   "id": "8c3d8033",
   "metadata": {},
   "outputs": [],
   "source": [
    "\n",
    "if HAS_DIMOD:\n",
    "    sampler = dimod.SimulatedAnnealingSampler()\n",
    "    sampleset = sampler.sample_qubo(Q, num_reads=200)\n",
    "    best = sampleset.first.sample # type: ignore\n",
    "    w_quantum = np.array([best[i] for i in range(len(mu))],dtype=float)\n",
    "    if w_quantum.sum()>0:\n",
    "        w_quantum = w_quantum/w_quantum.sum()\n",
    "else:\n",
    "    w_quantum = np.ones(len(mu))/len(mu)\n",
    "\n",
    "port_stats(w_quantum, mu, cov)\n"
   ]
  },
  {
   "cell_type": "markdown",
   "id": "289602ab",
   "metadata": {},
   "source": [
    "## 6) Compare Allocations"
   ]
  },
  {
   "cell_type": "code",
   "execution_count": null,
   "id": "73b5e00f",
   "metadata": {},
   "outputs": [],
   "source": [
    "\n",
    "df_alloc = pd.DataFrame({\n",
    "    \"Classical\": w_classical,\n",
    "    \"Quantum\": w_quantum\n",
    "}, index=[f\"A{i}\" for i in range(len(mu))])\n",
    "df_alloc\n"
   ]
  },
  {
   "cell_type": "code",
   "execution_count": null,
   "id": "f6485bdb",
   "metadata": {},
   "outputs": [],
   "source": [
    "\n",
    "df_alloc.plot(kind=\"bar\", figsize=(10,4))\n",
    "plt.title(\"Portfolio Allocations: Classical vs Quantum-Inspired\")\n",
    "plt.show()\n"
   ]
  }
 ],
 "metadata": {
  "kernelspec": {
   "display_name": "Python 3",
   "language": "python",
   "name": "python3"
  },
  "language_info": {
   "name": "python",
   "version": "3.11"
  }
 },
 "nbformat": 4,
 "nbformat_minor": 5
}
