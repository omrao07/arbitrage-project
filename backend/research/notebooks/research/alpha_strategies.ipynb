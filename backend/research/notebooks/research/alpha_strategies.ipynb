{
 "cells": [
  {
   "cell_type": "markdown",
   "id": "5a47d97a",
   "metadata": {},
   "source": [
    "\n",
    "# 🧪 Alpha Strategies Lab\n",
    "\n",
    "_Date generated: 2025-09-03_\n",
    "\n",
    "This notebook is a **research workbench** to prototype and evaluate multiple **cross‑sectional alpha strategies** across regions and assets.\n",
    "\n",
    "**What’s inside**\n",
    "- Data loader (local CSV or synthetic fallback)\n",
    "- Signal library: Momentum, Mean‑Reversion, Volatility, Carry (term‑structure proxy), Composite\n",
    "- Regime filter (volatility / trend state)\n",
    "- Portfolio construction: rank‑based long/short, z‑score sizing, beta‑neutral & dollar‑neutral options\n",
    "- Costs: commission, slippage (spread * participation)\n",
    "- Backtest engine (vectorized), risk targeting\n",
    "- Metrics: CAGR, Sharpe, Sortino, max DD, turnover, hit rate\n",
    "- Rolling stats & walk‑forward evaluation\n"
   ]
  },
  {
   "cell_type": "markdown",
   "id": "6ef85167",
   "metadata": {},
   "source": [
    "## 0) Parameters"
   ]
  },
  {
   "cell_type": "code",
   "execution_count": null,
   "id": "eec6c25e",
   "metadata": {},
   "outputs": [],
   "source": [
    "\n",
    "# Data sources\n",
    "PATH_PRICES = \"data/prices.csv\"     # wide: date, TICK1, TICK2, ...\n",
    "FREQ = \"B\"                          # business days\n",
    "\n",
    "# Strategy knobs\n",
    "LOOKBACK_MOM = 60                   # momentum lookback (days)\n",
    "LOOKBACK_MR  = 5                    # mean reversion lookback\n",
    "VOL_WINDOW   = 20                   # realized vol window\n",
    "CARRY_WINDOWS = (20, 60)            # \"term structure\" proxy windows\n",
    "N_LONG = 10                          # number of longs\n",
    "N_SHORT = 10                         # number of shorts\n",
    "TARGET_VOL_ANNUAL = 0.10            # risk targeting at portfolio level\n",
    "\n",
    "# Costs\n",
    "COMMISSION_BPS = 0.2                # 0.2 bp per notional (example)\n",
    "SLIPPAGE_BPS   = 1.0                # 1 bp slippage per turnover unit\n",
    "\n",
    "# Backtest range (None -> full)\n",
    "START_DATE = None\n",
    "END_DATE   = None\n"
   ]
  },
  {
   "cell_type": "markdown",
   "id": "163c43a9",
   "metadata": {},
   "source": [
    "## 1) Setup & Helpers"
   ]
  },
  {
   "cell_type": "code",
   "execution_count": null,
   "id": "33ea87ef",
   "metadata": {},
   "outputs": [],
   "source": [
    "\n",
    "import os, math, itertools, warnings\n",
    "from typing import Dict, List, Tuple, Optional\n",
    "\n",
    "import numpy as np\n",
    "import pandas as pd\n",
    "import matplotlib.pyplot as plt\n",
    "\n",
    "pd.options.display.float_format = \"{:,.6f}\".format\n",
    "warnings.filterwarnings(\"ignore\")\n",
    "\n",
    "def ann_factor(freq='D'):\n",
    "    return 252 if freq in ('B','D') else 52 if freq.startswith('W') else 12\n",
    "\n",
    "def pct_change_safe(df: pd.DataFrame) -> pd.DataFrame:\n",
    "    x = df.pct_change().replace([np.inf, -np.inf], np.nan)\n",
    "    return x\n",
    "\n",
    "def zscore(df: pd.DataFrame, win: int) -> pd.DataFrame:\n",
    "    mu = df.rolling(win).mean()\n",
    "    sd = df.rolling(win).std(ddof=1).replace(0, np.nan)\n",
    "    return (df - mu) / sd\n",
    "\n",
    "def winsorize(s: pd.Series, p=0.01) -> pd.Series:\n",
    "    lo, hi = s.quantile(p), s.quantile(1-p)\n",
    "    return s.clip(lo, hi)\n",
    "\n",
    "def drawdown_curve(nav: pd.Series) -> pd.Series:\n",
    "    rm = nav.cummax()\n",
    "    return nav/rm - 1.0\n"
   ]
  },
  {
   "cell_type": "markdown",
   "id": "e73b610f",
   "metadata": {},
   "source": [
    "## 2) Load Data (local or synthetic)"
   ]
  },
  {
   "cell_type": "code",
   "execution_count": null,
   "id": "3bed0144",
   "metadata": {},
   "outputs": [],
   "source": [
    "\n",
    "def load_prices(path=PATH_PRICES, n_assets=60, n_days=800, seed=7) -> pd.DataFrame:\n",
    "    if os.path.exists(path):\n",
    "        df = pd.read_csv(path, parse_dates=['date']).set_index('date').sort_index()\n",
    "        return df\n",
    "    # Synthetic multi‑region prices with sector structure\n",
    "    rng = np.random.default_rng(seed)\n",
    "    dates = pd.bdate_range(\"2022-01-01\", periods=n_days, freq=FREQ)\n",
    "    # latent factors: market + 5 sectors\n",
    "    market = rng.normal(0.0003, 0.009, size=len(dates))\n",
    "    sectors = rng.normal(0.0002, 0.006, size=(len(dates), 5))\n",
    "    idio = rng.normal(0, 0.01, size=(len(dates), n_assets))\n",
    "    px = np.zeros((len(dates), n_assets))\n",
    "    for j in range(n_assets):\n",
    "        s = j % 5\n",
    "        ret = market + 0.5*sectors[:, s] + 0.5*idio[:, j]\n",
    "        px[:, j] = 100 * (1 + pd.Series(ret, index=dates)).cumprod().values # type: ignore\n",
    "    cols = [f\"A{j:03d}\" for j in range(n_assets)]\n",
    "    return pd.DataFrame(px, index=dates, columns=cols)\n",
    "\n",
    "prices = load_prices()\n",
    "if START_DATE: prices = prices.loc[START_DATE:]\n",
    "if END_DATE:   prices = prices.loc[:END_DATE]\n",
    "returns = pct_change_safe(prices).fillna(0.0)\n",
    "prices.head(), returns.head()\n"
   ]
  },
  {
   "cell_type": "markdown",
   "id": "d05939bc",
   "metadata": {},
   "source": [
    "## 3) Signal Library"
   ]
  },
  {
   "cell_type": "code",
   "execution_count": null,
   "id": "3b00c5e2",
   "metadata": {},
   "outputs": [],
   "source": [
    "\n",
    "def sig_momentum(prices: pd.DataFrame, lb: int = LOOKBACK_MOM) -> pd.DataFrame:\n",
    "    # Price momentum: cumulative return over lookback (skip most recent day to reduce reversal)\n",
    "    ret = prices.pct_change().fillna(0.0)\n",
    "    mom = (1 + ret).rolling(lb).apply(lambda x: np.prod(1+x[:-1]) - 1, raw=False)\n",
    "    return mom\n",
    "\n",
    "def sig_mean_reversion(prices: pd.DataFrame, lb: int = LOOKBACK_MR) -> pd.DataFrame:\n",
    "    # Short‑term reversal: negative of recent return\n",
    "    mr = -prices.pct_change(lb)\n",
    "    return mr\n",
    "\n",
    "def sig_volatility(returns: pd.DataFrame, win: int = VOL_WINDOW) -> pd.DataFrame:\n",
    "    vol = returns.rolling(win).std(ddof=1)\n",
    "    return -vol   # prefer low vol (defensive tilt)\n",
    "\n",
    "def sig_carry(prices: pd.DataFrame, w1=20, w2=60) -> pd.DataFrame:\n",
    "    # Term‑structure proxy: difference in two moving averages slopes\n",
    "    ma1 = prices.rolling(w1).mean()\n",
    "    ma2 = prices.rolling(w2).mean()\n",
    "    slope1 = ma1.pct_change(w1)\n",
    "    slope2 = ma2.pct_change(w2)\n",
    "    return slope1 - slope2\n",
    "\n",
    "def sig_composite(prices: pd.DataFrame, returns: pd.DataFrame) -> pd.DataFrame:\n",
    "    m = sig_momentum(prices)\n",
    "    r = sig_mean_reversion(prices)\n",
    "    v = sig_volatility(returns)\n",
    "    c = sig_carry(prices, *CARRY_WINDOWS)\n",
    "    # Normalize each signal cross‑sectionally daily\n",
    "    def cs_rank(df):\n",
    "        return df.rank(axis=1, pct=True).subtract(0.5) * 2  # [-1,1]\n",
    "    M, R, V, C = map(cs_rank, (m, r, v, c))\n",
    "    comp = 0.4*M + 0.2*R + 0.2*V + 0.2*C\n",
    "    return comp\n"
   ]
  },
  {
   "cell_type": "markdown",
   "id": "44158795",
   "metadata": {},
   "source": [
    "## 4) Regime Filter"
   ]
  },
  {
   "cell_type": "code",
   "execution_count": null,
   "id": "066371d0",
   "metadata": {},
   "outputs": [],
   "source": [
    "\n",
    "def regime_filter(returns: pd.DataFrame, win=60) -> pd.Series:\n",
    "    # Simple state: 'risk_on' if market trend up & vol not extreme\n",
    "    idx = returns.index\n",
    "    # proxy market = equal‑weight index\n",
    "    mkt = returns.mean(axis=1)\n",
    "    trend = mkt.rolling(win).mean()\n",
    "    vol = mkt.rolling(win).std(ddof=1)\n",
    "    state = (trend > 0) & (vol < vol.quantile(0.8))\n",
    "    state = state.reindex(idx).fillna(False)\n",
    "    return state.rename(\"risk_on\")\n",
    "\n",
    "regime = regime_filter(returns)\n",
    "regime.tail()\n"
   ]
  },
  {
   "cell_type": "markdown",
   "id": "b95336b9",
   "metadata": {},
   "source": [
    "## 5) Portfolio Construction"
   ]
  },
  {
   "cell_type": "code",
   "execution_count": null,
   "id": "134f0680",
   "metadata": {},
   "outputs": [],
   "source": [
    "\n",
    "def build_portfolio(signal: pd.DataFrame,\n",
    "                    returns: pd.DataFrame,\n",
    "                    n_long=N_LONG, n_short=N_SHORT,\n",
    "                    beta_neutral=True):\n",
    "    \"\"\"Create daily weights from cross-sectional signal.\n",
    "    Long top N, short bottom N (equal weight inside bucket).\n",
    "    Optionally enforce beta-neutral (market beta ~ 0) by de-meaning weights.\n",
    "    \"\"\"\n",
    "    w = pd.DataFrame(0.0, index=signal.index, columns=signal.columns)\n",
    "    for dt, row in signal.iterrows():\n",
    "        s = row.dropna()\n",
    "        if len(s) < (n_long + n_short):\n",
    "            continue\n",
    "        longs = s.nlargest(n_long).index\n",
    "        shorts = s.nsmallest(n_short).index\n",
    "        w.loc[dt, longs] = 1.0 / n_long # type: ignore\n",
    "        w.loc[dt, shorts] = -1.0 / n_short # type: ignore\n",
    "        if beta_neutral:\n",
    "            # demean weights using market proxy = equal weight\n",
    "            w.loc[dt] = w.loc[dt] - w.loc[dt].mean() # type: ignore\n",
    "        # Normalize to 1 gross\n",
    "        if w.loc[dt].abs().sum() > 0: # type: ignore\n",
    "            w.loc[dt] = w.loc[dt] / w.loc[dt].abs().sum() # type: ignore\n",
    "    return w\n",
    "\n",
    "def risk_target_weights(w: pd.DataFrame, returns: pd.DataFrame, target_vol_ann=TARGET_VOL_ANNUAL, win=60):\n",
    "    # Scale portfolio exposure to hit target annual vol\n",
    "    mkt = (returns * w.shift(1)).sum(axis=1)  # strategy return series\n",
    "    vol = mkt.rolling(win).std(ddof=1) * np.sqrt(252)\n",
    "    scale = (target_vol_ann / (vol.replace(0,np.nan))).clip(0, 5.0).fillna(0.0)\n",
    "    scale = scale.reindex(w.index).fillna(method=\"ffill\").fillna(0.0)\n",
    "    return w.mul(scale, axis=0)\n"
   ]
  },
  {
   "cell_type": "markdown",
   "id": "8f3057d8",
   "metadata": {},
   "source": [
    "## 6) Backtest Engine (with costs)"
   ]
  },
  {
   "cell_type": "code",
   "execution_count": null,
   "id": "3862121a",
   "metadata": {},
   "outputs": [],
   "source": [
    "\n",
    "def backtest(weights: pd.DataFrame, returns: pd.DataFrame,\n",
    "             commission_bps=COMMISSION_BPS, slippage_bps=SLIPPAGE_BPS) -> pd.Series:\n",
    "    # Strategy return before costs\n",
    "    strat_ret_gross = (weights.shift(1) * returns).sum(axis=1)\n",
    "    # Turnover cost: sum |Δw| * (commission + slippage)\n",
    "    dw = (weights - weights.shift(1)).abs().sum(axis=1)\n",
    "    cost = dw * ((commission_bps + slippage_bps)/10000.0)\n",
    "    net = strat_ret_gross - cost\n",
    "    return net.fillna(0.0)\n",
    "\n",
    "def metrics(r: pd.Series) -> dict:\n",
    "    cagr = (1 + r).prod()**(252/len(r)) - 1.0 if len(r)>0 else np.nan # type: ignore\n",
    "    vol = r.std(ddof=1) * np.sqrt(252) if r.std()>0 else np.nan\n",
    "    sharpe = (r.mean()/r.std(ddof=1))*np.sqrt(252) if r.std()>0 else np.nan\n",
    "    downside = r[r<0].std(ddof=1)*np.sqrt(252) if (r<0).any() else np.nan\n",
    "    sortino = (r.mean()*252) / downside if (downside is not None and downside>0) else np.nan\n",
    "    nav = (1 + r).cumprod()\n",
    "    dd = drawdown_curve(nav)\n",
    "    hit = (r > 0).mean()\n",
    "    return {\"CAGR\": cagr, \"Vol\": vol, \"Sharpe\": sharpe, \"Sortino\": sortino, \"MaxDD\": dd.min(), \"HitRate\": hit}\n"
   ]
  },
  {
   "cell_type": "markdown",
   "id": "bf1044cf",
   "metadata": {},
   "source": [
    "## 7) Run Strategies"
   ]
  },
  {
   "cell_type": "code",
   "execution_count": null,
   "id": "bd9f37e1",
   "metadata": {},
   "outputs": [],
   "source": [
    "\n",
    "signals = {\n",
    "    \"Momentum\": sig_momentum(prices, LOOKBACK_MOM),\n",
    "    \"MeanRev\": sig_mean_reversion(prices, LOOKBACK_MR),\n",
    "    \"LowVol\": sig_volatility(returns, VOL_WINDOW),\n",
    "    \"CarryTS\": sig_carry(prices, *CARRY_WINDOWS),\n",
    "    \"Composite\": sig_composite(prices, returns),\n",
    "}\n",
    "\n",
    "results = {}\n",
    "for name, sig in signals.items():\n",
    "    w = build_portfolio(sig, returns, N_LONG, N_SHORT, beta_neutral=True)\n",
    "    w = risk_target_weights(w, returns, TARGET_VOL_ANNUAL)\n",
    "    r = backtest(w, returns)\n",
    "    results[name] = r\n",
    "\n",
    "pd.DataFrame({k: v.describe() for k, v in results.items()}).T.head()\n"
   ]
  },
  {
   "cell_type": "markdown",
   "id": "34ed2ea3",
   "metadata": {},
   "source": [
    "### Equity Curves (Net of Costs)"
   ]
  },
  {
   "cell_type": "code",
   "execution_count": null,
   "id": "76104f51",
   "metadata": {},
   "outputs": [],
   "source": [
    "\n",
    "plt.figure(figsize=(10,4))\n",
    "for k, r in results.items():\n",
    "    (1+r).cumprod().plot(label=k, alpha=0.9)\n",
    "plt.title(\"Strategy Equity Curves\")\n",
    "plt.legend()\n",
    "plt.tight_layout()\n",
    "plt.show()\n"
   ]
  },
  {
   "cell_type": "markdown",
   "id": "98f57b91",
   "metadata": {},
   "source": [
    "### Rolling Sharpe (126d)"
   ]
  },
  {
   "cell_type": "code",
   "execution_count": null,
   "id": "9da60e58",
   "metadata": {},
   "outputs": [],
   "source": [
    "\n",
    "roll_win = 126\n",
    "plt.figure(figsize=(10,3.5))\n",
    "for k, r in results.items():\n",
    "    rs = r.rolling(roll_win).mean() / r.rolling(roll_win).std(ddof=1)\n",
    "    (rs * np.sqrt(252)).plot(label=k, alpha=0.8)\n",
    "plt.axhline(0, color='k', lw=1)\n",
    "plt.title(f\"Rolling Sharpe ({roll_win}d)\")\n",
    "plt.legend()\n",
    "plt.tight_layout()\n",
    "plt.show()\n"
   ]
  },
  {
   "cell_type": "markdown",
   "id": "273f3347",
   "metadata": {},
   "source": [
    "## 8) Regime Analysis"
   ]
  },
  {
   "cell_type": "code",
   "execution_count": null,
   "id": "6ed88a25",
   "metadata": {},
   "outputs": [],
   "source": [
    "\n",
    "reg = regime.reindex(returns.index).fillna(False)\n",
    "summary_reg = {}\n",
    "for k, r in results.items():\n",
    "    r_on  = r[reg]\n",
    "    r_off = r[~reg]\n",
    "    summary_reg[k] = {\n",
    "        \"Sharpe_risk_on\": (r_on.mean()/r_on.std())*np.sqrt(252) if r_on.std()>0 else np.nan,\n",
    "        \"Sharpe_risk_off\": (r_off.mean()/r_off.std())*np.sqrt(252) if r_off.std()>0 else np.nan,\n",
    "        \"Hit_on\": (r_on>0).mean(),\n",
    "        \"Hit_off\": (r_off>0).mean(),\n",
    "    }\n",
    "pd.DataFrame(summary_reg).T\n"
   ]
  },
  {
   "cell_type": "markdown",
   "id": "a912dad9",
   "metadata": {},
   "source": [
    "## 9) Walk‑Forward Evaluation"
   ]
  },
  {
   "cell_type": "code",
   "execution_count": null,
   "id": "98ca6711",
   "metadata": {},
   "outputs": [],
   "source": [
    "\n",
    "def walk_forward(signal_fn, params_list: List[dict], prices: pd.DataFrame, returns: pd.DataFrame,\n",
    "                 train=252*2, test=252):\n",
    "    idx = prices.index\n",
    "    cursor = train\n",
    "    perf = []\n",
    "    while cursor + test <= len(idx):\n",
    "        tr = slice(idx[cursor-train], idx[cursor-1])\n",
    "        te = slice(idx[cursor], idx[cursor+test-1])\n",
    "        best = None\n",
    "        best_sharpe = -1e9\n",
    "        for p in params_list:\n",
    "            # Determine signature by trying kwargs\n",
    "            try:\n",
    "                sig = signal_fn(prices.loc[tr], **p)\n",
    "            except TypeError:\n",
    "                sig = signal_fn(returns.loc[tr], **p)\n",
    "            w = build_portfolio(sig, returns.loc[tr])\n",
    "            w = risk_target_weights(w, returns.loc[tr], TARGET_VOL_ANNUAL)\n",
    "            r = backtest(w, returns.loc[tr])\n",
    "            shp = (r.mean()/r.std())*np.sqrt(252) if r.std()>0 else -1e9\n",
    "            if shp > best_sharpe:\n",
    "                best_sharpe, best = shp, p\n",
    "        # test on holdout with best params\n",
    "        try:\n",
    "            sig_te = signal_fn(prices.loc[te], **best) # type: ignore\n",
    "        except TypeError:\n",
    "            sig_te = signal_fn(returns.loc[te], **best) # type: ignore\n",
    "        w_te = build_portfolio(sig_te, returns.loc[te])\n",
    "        w_te = risk_target_weights(w_te, returns.loc[te], TARGET_VOL_ANNUAL)\n",
    "        r_te = backtest(w_te, returns.loc[te])\n",
    "        perf.append(r_te)\n",
    "        cursor += test\n",
    "    if perf:\n",
    "        return pd.concat(perf).sort_index()\n",
    "    return pd.Series(dtype=float)\n",
    "\n",
    "param_grid = [{\"lb\": x} for x in [40, 60, 90, 120]]\n",
    "wf_mom = walk_forward(lambda prices, lb: sig_momentum(prices, lb=lb), param_grid, prices, returns)\n",
    "\n",
    "plt.figure(figsize=(10,3.5))\n",
    "(1 + wf_mom).cumprod().plot()\n",
    "plt.title(\"Walk‑Forward — Momentum\")\n",
    "plt.tight_layout()\n",
    "plt.show()\n",
    "\n",
    "metrics_wf = {\n",
    "    \"CAGR\": (1+wf_mom).prod()**(252/len(wf_mom)) - 1 if len(wf_mom)>0 else np.nan, # type: ignore\n",
    "    \"Sharpe\": (wf_mom.mean()/wf_mom.std())*np.sqrt(252) if wf_mom.std()>0 else np.nan, # type: ignore\n",
    "    \"MaxDD\": drawdown_curve((1+wf_mom).cumprod()).min() if len(wf_mom)>0 else np.nan # type: ignore\n",
    "}\n",
    "metrics_wf\n"
   ]
  },
  {
   "cell_type": "markdown",
   "id": "93cb9a1b",
   "metadata": {},
   "source": [
    "## 10) Summary Metrics"
   ]
  },
  {
   "cell_type": "code",
   "execution_count": null,
   "id": "8aa1ac5a",
   "metadata": {},
   "outputs": [],
   "source": [
    "\n",
    "summary = {}\n",
    "for k, r in results.items():\n",
    "    summary[k] = metrics(r)\n",
    "pd.DataFrame(summary).T.sort_values(\"Sharpe\", ascending=False)\n"
   ]
  }
 ],
 "metadata": {
  "kernelspec": {
   "display_name": "Python 3",
   "language": "python",
   "name": "python3"
  },
  "language_info": {
   "name": "python",
   "version": "3.11"
  }
 },
 "nbformat": 4,
 "nbformat_minor": 5
}
