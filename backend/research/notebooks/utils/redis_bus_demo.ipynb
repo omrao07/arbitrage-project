{
 "cells": [
  {
   "cell_type": "markdown",
   "id": "bee9659b",
   "metadata": {},
   "source": [
    "\n",
    "# 🔌 Redis Bus Demo\n",
    "\n",
    "_Date generated: 2025-09-04_\n",
    "\n",
    "This notebook demonstrates a **pub/sub and stream workflow with Redis** for a trading bus.\n",
    "\n",
    "**What you get**\n",
    "- Connect to Redis (local or container)\n",
    "- Simple **pub/sub** messaging demo\n",
    "- **Redis Streams** producer/consumer example\n",
    "- Mini trade/order flow simulation\n"
   ]
  },
  {
   "cell_type": "markdown",
   "id": "e48b8969",
   "metadata": {},
   "source": [
    "## 0) Setup"
   ]
  },
  {
   "cell_type": "code",
   "execution_count": null,
   "id": "9d188e39",
   "metadata": {},
   "outputs": [],
   "source": [
    "\n",
    "import os, time, json\n",
    "import redis\n",
    "\n",
    "REDIS_HOST = os.getenv(\"REDIS_HOST\",\"localhost\")\n",
    "REDIS_PORT = int(os.getenv(\"REDIS_PORT\",6379))\n",
    "r = redis.Redis(host=REDIS_HOST, port=REDIS_PORT, decode_responses=True)\n",
    "\n",
    "print(\"Connected:\", r.ping())\n"
   ]
  },
  {
   "cell_type": "markdown",
   "id": "0862889e",
   "metadata": {},
   "source": [
    "## 1) Pub/Sub Messaging"
   ]
  },
  {
   "cell_type": "code",
   "execution_count": null,
   "id": "d9133f75",
   "metadata": {},
   "outputs": [],
   "source": [
    "\n",
    "# Publisher\n",
    "channel = \"orders\"\n",
    "\n",
    "def publisher(n=5):\n",
    "    for i in range(n):\n",
    "        msg = {\"order_id\": i, \"symbol\":\"AAPL\", \"qty\":100+i, \"side\":\"BUY\"}\n",
    "        r.publish(channel, json.dumps(msg))\n",
    "        print(\"Published\", msg)\n",
    "        time.sleep(0.2)\n",
    "\n",
    "# Subscriber (blocking read for demo)\n",
    "def subscriber():\n",
    "    pubsub = r.pubsub()\n",
    "    pubsub.subscribe(channel)\n",
    "    print(\"Subscribed to\", channel)\n",
    "    for m in pubsub.listen():\n",
    "        if m[\"type\"]==\"message\":\n",
    "            data = json.loads(m[\"data\"])\n",
    "            print(\"Received:\", data)\n",
    "            break\n",
    "\n",
    "# Run publisher in background in real use, here just sequentially\n"
   ]
  },
  {
   "cell_type": "markdown",
   "id": "681ed0df",
   "metadata": {},
   "source": [
    "## 2) Redis Streams Example"
   ]
  },
  {
   "cell_type": "code",
   "execution_count": null,
   "id": "534ba1e2",
   "metadata": {},
   "outputs": [],
   "source": [
    "\n",
    "stream = \"trade_stream\"\n",
    "\n",
    "def producer(n=5):\n",
    "    for i in range(n):\n",
    "        ev = {\"trade_id\": i, \"symbol\":\"MSFT\", \"px\":str(100+0.1*i), \"qty\":str(50)}\n",
    "        r.xadd(stream, ev)\n",
    "        print(\"Produced\", ev)\n",
    "\n",
    "def consumer(block_ms=1000):\n",
    "    last_id = \"0-0\"\n",
    "    while True:\n",
    "        resp = r.xread({stream:last_id}, block=block_ms, count=1)\n",
    "        if resp:\n",
    "            _, events = resp[0]\n",
    "            for eid, fields in events:\n",
    "                print(\"Consumed\", eid, fields)\n",
    "                last_id = eid\n",
    "            break\n",
    "\n",
    "# Run producer then consumer to demo\n"
   ]
  },
  {
   "cell_type": "markdown",
   "id": "7930768f",
   "metadata": {},
   "source": [
    "## 3) Mini Trade Bus Simulation"
   ]
  },
  {
   "cell_type": "code",
   "execution_count": null,
   "id": "0bfc642e",
   "metadata": {},
   "outputs": [],
   "source": [
    "\n",
    "# Simple demo: orders published -> risk check -> execution -> fill\n",
    "\n",
    "def trade_bus_demo():\n",
    "    # Order in stream\n",
    "    order = {\"order_id\":\"T1\",\"symbol\":\"TSLA\",\"side\":\"SELL\",\"qty\":\"200\"}\n",
    "    r.xadd(\"orders_stream\", order)\n",
    "    print(\"Order submitted:\", order)\n",
    "\n",
    "    # Risk check reads, adds risk flag, pushes to next stream\n",
    "    resp = r.xread({\"orders_stream\":\"0-0\"}, count=1)\n",
    "    _, events = resp[0]\n",
    "    for eid, fields in events:\n",
    "        fields[\"risk_checked\"] = \"1\"\n",
    "        r.xadd(\"risk_stream\", fields)\n",
    "        print(\"Risk checked ->\", fields)\n",
    "\n",
    "    # Execution reads, fills, pushes fill\n",
    "    resp = r.xread({\"risk_stream\":\"0-0\"}, count=1)\n",
    "    _, events = resp[0]\n",
    "    for eid, fields in events:\n",
    "        fill = dict(fields); fill[\"status\"]=\"FILLED\"; fill[\"px\"]=\"250.0\"\n",
    "        r.xadd(\"fills_stream\", fill)\n",
    "        print(\"Executed ->\", fill)\n",
    "\n",
    "    # Backoffice reads fills\n",
    "    resp = r.xread({\"fills_stream\":\"0-0\"}, count=1)\n",
    "    print(\"Backoffice received:\", resp)\n",
    "\n",
    "trade_bus_demo()\n"
   ]
  }
 ],
 "metadata": {
  "kernelspec": {
   "display_name": "Python 3",
   "language": "python",
   "name": "python3"
  },
  "language_info": {
   "name": "python",
   "version": "3.11"
  }
 },
 "nbformat": 4,
 "nbformat_minor": 5
}
