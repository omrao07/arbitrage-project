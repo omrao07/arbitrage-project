{
 "cells": [
  {
   "cell_type": "markdown",
   "id": "4e790ce8",
   "metadata": {},
   "source": [
    "\n",
    "# 📂 Data Loading Examples\n",
    "\n",
    "_Date generated: 2025-09-04_\n",
    "\n",
    "This notebook shows **common patterns for loading data** into your hedge fund research environment.\n",
    "\n",
    "**Sections**\n",
    "1. Load CSVs (prices, returns, weights, factors)\n",
    "2. Load from SQL (SQLite example)\n",
    "3. Load via APIs (Yahoo Finance)\n",
    "4. Data validation & cleaning examples\n"
   ]
  },
  {
   "cell_type": "markdown",
   "id": "0032d49a",
   "metadata": {},
   "source": [
    "## 1) Load from CSV"
   ]
  },
  {
   "cell_type": "code",
   "execution_count": null,
   "id": "5a6a9ba4",
   "metadata": {},
   "outputs": [],
   "source": [
    "\n",
    "import os\n",
    "import pandas as pd\n",
    "\n",
    "# Example file paths\n",
    "PATH_PRICES = \"data/prices.csv\"\n",
    "PATH_RETURNS = \"data/returns.csv\"\n",
    "PATH_WEIGHTS = \"data/weights.csv\"\n",
    "\n",
    "# Prices (date, ticker, price)\n",
    "if os.path.exists(PATH_PRICES):\n",
    "    prices = pd.read_csv(PATH_PRICES, parse_dates=[\"date\"])\n",
    "    print(prices.head())\n",
    "\n",
    "# Returns (date as index, wide tickers)\n",
    "if os.path.exists(PATH_RETURNS):\n",
    "    returns = pd.read_csv(PATH_RETURNS, parse_dates=[\"date\"]).set_index(\"date\")\n",
    "    print(returns.head())\n",
    "\n",
    "# Weights (ticker, weight)\n",
    "if os.path.exists(PATH_WEIGHTS):\n",
    "    weights = pd.read_csv(PATH_WEIGHTS).set_index(\"ticker\")\n",
    "    print(weights.head())\n"
   ]
  },
  {
   "cell_type": "markdown",
   "id": "c0d17d58",
   "metadata": {},
   "source": [
    "## 2) Load from SQL (SQLite example)"
   ]
  },
  {
   "cell_type": "code",
   "execution_count": null,
   "id": "6b6b9bb6",
   "metadata": {},
   "outputs": [],
   "source": [
    "\n",
    "import sqlite3\n",
    "\n",
    "# Assume we have a SQLite DB with 'prices' table\n",
    "DB_PATH = \"data/market.db\"\n",
    "\n",
    "if os.path.exists(DB_PATH):\n",
    "    conn = sqlite3.connect(DB_PATH)\n",
    "    query = \"SELECT date, ticker, price FROM prices WHERE ticker IN ('AAPL','MSFT') LIMIT 10;\"\n",
    "    df_sql = pd.read_sql(query, conn, parse_dates=[\"date\"])\n",
    "    conn.close()\n",
    "    print(df_sql)\n"
   ]
  },
  {
   "cell_type": "markdown",
   "id": "a43b6a21",
   "metadata": {},
   "source": [
    "## 3) Load from Yahoo Finance API"
   ]
  },
  {
   "cell_type": "code",
   "execution_count": null,
   "id": "30110e1f",
   "metadata": {},
   "outputs": [],
   "source": [
    "\n",
    "import datetime\n",
    "import yfinance as yf\n",
    "\n",
    "tickers = [\"AAPL\",\"MSFT\",\"GOOG\"]\n",
    "start = datetime.date(2022,1,1)\n",
    "end = datetime.date(2023,1,1)\n",
    "\n",
    "try:\n",
    "    data = yf.download(tickers, start=start, end=end)[\"Adj Close\"]\n",
    "    print(data.head())\n",
    "except Exception as e:\n",
    "    print(\"yfinance failed (likely no internet).\", e)\n"
   ]
  },
  {
   "cell_type": "markdown",
   "id": "cecf36a9",
   "metadata": {},
   "source": [
    "## 4) Data Validation & Cleaning"
   ]
  },
  {
   "cell_type": "code",
   "execution_count": null,
   "id": "3db8d548",
   "metadata": {},
   "outputs": [],
   "source": [
    "\n",
    "# Handling missing values\n",
    "if 'returns' in locals():\n",
    "    returns_clean = returns.fillna(0.0)\n",
    "    print(\"Filled NA:\", returns_clean.isna().sum().sum())\n",
    "\n",
    "# Outlier detection\n",
    "if 'returns' in locals():\n",
    "    zscore = (returns - returns.mean())/returns.std()\n",
    "    outliers = (zscore.abs()>5).sum().sum()\n",
    "    print(\"Extreme return outliers:\", outliers)\n"
   ]
  }
 ],
 "metadata": {
  "kernelspec": {
   "display_name": "Python 3",
   "language": "python",
   "name": "python3"
  },
  "language_info": {
   "name": "python",
   "version": "3.11"
  }
 },
 "nbformat": 4,
 "nbformat_minor": 5
}
