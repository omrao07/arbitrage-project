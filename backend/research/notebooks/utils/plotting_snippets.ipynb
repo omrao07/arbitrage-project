{
 "cells": [
  {
   "cell_type": "markdown",
   "id": "a8f2206f",
   "metadata": {},
   "source": [
    "\n",
    "# 📊 Plotting Snippets\n",
    "\n",
    "_Date generated: 2025-09-04_\n",
    "\n",
    "Common **plotting patterns** useful in hedge fund research notebooks.\n",
    "\n",
    "**Includes**\n",
    "- Line plots (NAV, returns)\n",
    "- Histograms & KDEs\n",
    "- Scatterplots & alpha/beta fits\n",
    "- Heatmaps (correlation)\n",
    "- Rolling statistics plots\n",
    "- Multi-axis charts\n"
   ]
  },
  {
   "cell_type": "markdown",
   "id": "c2e2e2fd",
   "metadata": {},
   "source": [
    "## 0) Setup"
   ]
  },
  {
   "cell_type": "code",
   "execution_count": null,
   "id": "ff6ae38f",
   "metadata": {},
   "outputs": [],
   "source": [
    "\n",
    "import numpy as np\n",
    "import pandas as pd\n",
    "import matplotlib.pyplot as plt\n",
    "\n",
    "np.random.seed(42)\n",
    "dates = pd.bdate_range(\"2023-01-01\", periods=250)\n",
    "rets = pd.DataFrame({\n",
    "    \"A\": np.random.normal(0.0005, 0.01, len(dates)),\n",
    "    \"B\": np.random.normal(0.0003, 0.012, len(dates)),\n",
    "    \"C\": np.random.normal(0.0004, 0.008, len(dates)),\n",
    "}, index=dates)\n",
    "nav = (1+rets).cumprod()\n"
   ]
  },
  {
   "cell_type": "markdown",
   "id": "0d7ef67e",
   "metadata": {},
   "source": [
    "## 1) Line Plot — NAV"
   ]
  },
  {
   "cell_type": "code",
   "execution_count": null,
   "id": "7c85ade9",
   "metadata": {},
   "outputs": [],
   "source": [
    "\n",
    "plt.figure(figsize=(10,4))\n",
    "plt.plot(nav.index, nav[\"A\"], label=\"Strat A\")\n",
    "plt.plot(nav.index, nav[\"B\"], label=\"Strat B\")\n",
    "plt.plot(nav.index, nav[\"C\"], label=\"Strat C\")\n",
    "plt.legend(); plt.title(\"NAV Over Time\"); plt.show()\n"
   ]
  },
  {
   "cell_type": "markdown",
   "id": "58f40b6d",
   "metadata": {},
   "source": [
    "## 2) Histogram & KDE"
   ]
  },
  {
   "cell_type": "code",
   "execution_count": null,
   "id": "33951f52",
   "metadata": {},
   "outputs": [],
   "source": [
    "\n",
    "plt.figure(figsize=(8,4))\n",
    "rets[\"A\"].hist(bins=50, alpha=0.6, label=\"A\")\n",
    "rets[\"B\"].hist(bins=50, alpha=0.6, label=\"B\")\n",
    "plt.legend(); plt.title(\"Return Distributions\"); plt.show()\n",
    "\n",
    "plt.figure(figsize=(8,4))\n",
    "rets[\"A\"].plot(kind=\"kde\", label=\"A\")\n",
    "rets[\"B\"].plot(kind=\"kde\", label=\"B\")\n",
    "plt.legend(); plt.title(\"KDE of Returns\"); plt.show()\n"
   ]
  },
  {
   "cell_type": "markdown",
   "id": "23d82539",
   "metadata": {},
   "source": [
    "## 3) Scatterplot with Regression Fit"
   ]
  },
  {
   "cell_type": "code",
   "execution_count": null,
   "id": "a4d14975",
   "metadata": {},
   "outputs": [],
   "source": [
    "\n",
    "import statsmodels.api as sm\n",
    "\n",
    "x = rets[\"A\"]; y = rets[\"B\"]\n",
    "X = sm.add_constant(x)\n",
    "model = sm.OLS(y, X).fit()\n",
    "alpha, beta = model.params\n",
    "\n",
    "plt.figure(figsize=(6,6))\n",
    "plt.scatter(x,y, alpha=0.4)\n",
    "plt.plot(x, alpha + beta*x, color=\"red\", label=f\"y={alpha:.4f}+{beta:.2f}x\")\n",
    "plt.xlabel(\"Strat A\"); plt.ylabel(\"Strat B\")\n",
    "plt.legend(); plt.title(\"Alpha/Beta Fit\"); plt.show()\n"
   ]
  },
  {
   "cell_type": "markdown",
   "id": "ee2a602e",
   "metadata": {},
   "source": [
    "## 4) Correlation Heatmap"
   ]
  },
  {
   "cell_type": "code",
   "execution_count": null,
   "id": "2661cf50",
   "metadata": {},
   "outputs": [],
   "source": [
    "\n",
    "corr = rets.corr()\n",
    "plt.figure(figsize=(5,4))\n",
    "plt.imshow(corr, cmap=\"coolwarm\", vmin=-1, vmax=1)\n",
    "plt.colorbar(label=\"corr\")\n",
    "plt.xticks(range(len(corr)), corr.columns)\n",
    "plt.yticks(range(len(corr)), corr.columns)\n",
    "plt.title(\"Correlation Heatmap\"); plt.show()\n"
   ]
  },
  {
   "cell_type": "markdown",
   "id": "61746377",
   "metadata": {},
   "source": [
    "## 5) Rolling Statistics"
   ]
  },
  {
   "cell_type": "code",
   "execution_count": null,
   "id": "e8eb41d2",
   "metadata": {},
   "outputs": [],
   "source": [
    "\n",
    "roll = rets[\"A\"].rolling(50).mean()\n",
    "plt.figure(figsize=(10,3))\n",
    "plt.plot(roll); plt.title(\"50d Rolling Mean of Strat A Returns\"); plt.show()\n",
    "\n",
    "roll_corr = rets[\"A\"].rolling(60).corr(rets[\"B\"])\n",
    "plt.figure(figsize=(10,3))\n",
    "plt.plot(roll_corr); plt.title(\"60d Rolling Correlation A vs B\"); plt.show()\n"
   ]
  },
  {
   "cell_type": "markdown",
   "id": "ee9bcfbf",
   "metadata": {},
   "source": [
    "## 6) Multi-Axis Chart"
   ]
  },
  {
   "cell_type": "code",
   "execution_count": null,
   "id": "1de18c20",
   "metadata": {},
   "outputs": [],
   "source": [
    "\n",
    "fig, ax1 = plt.subplots(figsize=(10,4))\n",
    "ax2 = ax1.twinx()\n",
    "ax1.plot(nav.index, nav[\"A\"], color=\"blue\", label=\"NAV A\")\n",
    "ax2.bar(nav.index, rets[\"A\"], color=\"gray\", alpha=0.3, label=\"Daily Ret A\")\n",
    "ax1.set_ylabel(\"NAV\"); ax2.set_ylabel(\"Return\")\n",
    "plt.title(\"NAV vs Daily Returns\"); plt.show()\n"
   ]
  }
 ],
 "metadata": {
  "kernelspec": {
   "display_name": "Python 3",
   "language": "python",
   "name": "python3"
  },
  "language_info": {
   "name": "python",
   "version": "3.11"
  }
 },
 "nbformat": 4,
 "nbformat_minor": 5
}
