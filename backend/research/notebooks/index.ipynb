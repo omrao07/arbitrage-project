{
 "cells": [
  {
   "cell_type": "markdown",
   "id": "7c9491d1",
   "metadata": {},
   "source": [
    "\n",
    "# 📖 Project Index Notebook\n",
    "\n",
    "_Date generated: 2025-09-04_\n",
    "\n",
    "This notebook serves as a **table of contents / launcher** for your hedge fund research platform.\n",
    "\n",
    "**Contents**\n",
    "- Overview of available modules\n",
    "- Quick links to notebooks (risk, execution, strategies, alt data, infra demos)\n",
    "- Navigation helpers\n"
   ]
  },
  {
   "cell_type": "markdown",
   "id": "3c8ef6db",
   "metadata": {},
   "source": [
    "## 0) Setup"
   ]
  },
  {
   "cell_type": "code",
   "execution_count": null,
   "id": "6428c80f",
   "metadata": {},
   "outputs": [],
   "source": [
    "\n",
    "import os, glob\n",
    "\n",
    "BASE = os.getcwd()\n",
    "\n",
    "def list_ipynb(path=\".\"):\n",
    "    return sorted(glob.glob(os.path.join(path,\"*.ipynb\")))\n",
    "\n",
    "list_ipynb()\n"
   ]
  },
  {
   "cell_type": "markdown",
   "id": "2602498f",
   "metadata": {},
   "source": [
    "## 1) Module Overview with Links"
   ]
  },
  {
   "cell_type": "code",
   "execution_count": null,
   "id": "bff66cff",
   "metadata": {},
   "outputs": [],
   "source": [
    "\n",
    "from IPython.display import Markdown, display # type: ignore\n",
    "\n",
    "modules = {\n",
    "    \"Execution / RL\": [\"rl_execution_agent.ipynb\", \"latency_sim.ipynb\", \"darkpool_sim.ipynb\"],\n",
    "    \"Risk\": [\"stress_testing.ipynb\", \"crisis_mode.ipynb\", \"var_es.ipynb\", \"risk_dashboard.ipynb\"],\n",
    "    \"Alpha / Strategies\": [\"alpha_strategies.ipynb\", \"quantum_optimizer.ipynb\", \"sentiment_models.ipynb\"],\n",
    "    \"Alt Data\": [\"alt_data_weather.ipynb\", \"daily_newspaper.ipynb\"],\n",
    "    \"Infra / Demos\": [\"redis_bus_demo.ipynb\", \"data_loading_examples.ipynb\", \"plotting_snippets.ipynb\"]\n",
    "}\n",
    "\n",
    "for cat, nbs in modules.items():\n",
    "    display(Markdown(f\"### {cat}\"))\n",
    "    for nb in nbs:\n",
    "        path = os.path.join(BASE, nb)\n",
    "        link = f\"[{nb}]({path})\" if os.path.exists(path) else f\"{nb} (not found)\"\n",
    "        display(Markdown(f\"- {link}\"))\n"
   ]
  },
  {
   "cell_type": "markdown",
   "id": "e335a995",
   "metadata": {},
   "source": [
    "## 2) Index Table"
   ]
  },
  {
   "cell_type": "code",
   "execution_count": null,
   "id": "ca8044db",
   "metadata": {},
   "outputs": [],
   "source": [
    "\n",
    "import pandas as pd\n",
    "\n",
    "rows = []\n",
    "for cat, nbs in modules.items():\n",
    "    for nb in nbs:\n",
    "        rows.append({\n",
    "            \"Category\": cat,\n",
    "            \"Notebook\": nb,\n",
    "            \"Exists\": os.path.exists(os.path.join(BASE, nb))\n",
    "        })\n",
    "pd.DataFrame(rows)\n"
   ]
  }
 ],
 "metadata": {
  "kernelspec": {
   "display_name": "Python 3",
   "language": "python",
   "name": "python3"
  },
  "language_info": {
   "name": "python",
   "version": "3.11"
  }
 },
 "nbformat": 4,
 "nbformat_minor": 5
}
