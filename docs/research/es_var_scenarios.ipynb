{
 "cells": [
  {
   "cell_type": "markdown",
   "id": "f38f8963",
   "metadata": {},
   "source": [
    "# 📉 ES & VaR Scenario Analysis\n",
    "\n",
    "This notebook computes **Value-at-Risk (VaR)** and **Expected Shortfall (ES)** across historical, Monte Carlo, and stress-test scenarios.\n",
    "\n",
    "**Files (optional):**\n",
    "- `./data/pnl.csv` with a column `pnl` or `ret` (daily). If missing, synthetic data is generated.\n",
    "- `./data/returns.csv` wide matrix of returns (dates x tickers) for multi-asset Monte Carlo; optional.\n",
    "\n",
    "All charts use matplotlib; no external dependencies beyond SciPy (optional)."
   ]
  },
  {
   "cell_type": "code",
   "execution_count": null,
   "id": "1a61be86",
   "metadata": {},
   "outputs": [],
   "source": [
    "import os, math\n",
    "import numpy as np\n",
    "import pandas as pd\n",
    "import matplotlib.pyplot as plt\n",
    "from datetime import datetime\n",
    "try:\n",
    "    from scipy.stats import norm\n",
    "    HAVE_SCIPY = True\n",
    "except Exception:\n",
    "    HAVE_SCIPY = False\n",
    "\n",
    "plt.rcParams['figure.figsize'] = (10,4)\n",
    "\n",
    "PNL_PATH = './data/pnl.csv'          # optional; expects columns: date(optional), pnl or ret\n",
    "RETURNS_PATH = './data/returns.csv'  # optional; wide returns for multi-asset MC\n",
    "\n",
    "np.random.seed(42)\n",
    "\n",
    "def load_pnl():\n",
    "    if os.path.exists(PNL_PATH):\n",
    "        df = pd.read_csv(PNL_PATH)\n",
    "        if 'date' in df.columns:\n",
    "            df['date'] = pd.to_datetime(df['date'])\n",
    "            df = df.sort_values('date').reset_index(drop=True)\n",
    "        if 'pnl' in df.columns:\n",
    "            pnl = df['pnl'].astype(float)\n",
    "        elif 'ret' in df.columns:\n",
    "            base = 1_000_000.0\n",
    "            equity = base * (1.0 + df['ret'].astype(float)).cumprod()\n",
    "            pnl = equity - base\n",
    "        else:\n",
    "            raise ValueError('pnl.csv must have column pnl or ret')\n",
    "        return pnl\n",
    "    # demo pnl from normal returns\n",
    "    rets = np.random.normal(0.0005, 0.02, 1000)\n",
    "    base = 1_000_000.0\n",
    "    equity = base * (1.0 + rets).cumprod()\n",
    "    pnl = pd.Series(equity - base)\n",
    "    return pnl\n",
    "\n",
    "def load_returns():\n",
    "    if os.path.exists(RETURNS_PATH):\n",
    "        df = pd.read_csv(RETURNS_PATH, index_col=0, parse_dates=True)\n",
    "        df = df.sort_index().fillna(0.0)\n",
    "        return df\n",
    "    # demo multi-asset returns\n",
    "    dates = pd.date_range('2023-01-01', periods=750, freq='B')\n",
    "    cols = ['AAPL','MSFT','SPX','TLT','GLD']\n",
    "    n = len(cols)\n",
    "    # market factor + idiosyncratic\n",
    "    mkt = np.random.normal(0, 0.009, len(dates))\n",
    "    data = {}\n",
    "    for c in cols:\n",
    "        eps = np.random.normal(0, 0.012, len(dates))\n",
    "        mu  = 0.0004 if c!='TLT' else 0.0002\n",
    "        data[c] = mu + 0.6*mkt + eps\n",
    "    return pd.DataFrame(data, index=dates)\n",
    "\n",
    "pnl = load_pnl()\n",
    "R = load_returns()\n",
    "print('PnL len:', len(pnl), '| Returns shape:', R.shape)\n",
    "pnl.plot(title='PnL (cumulative)'); plt.show()"
   ]
  },
  {
   "cell_type": "markdown",
   "id": "7bf15e54",
   "metadata": {},
   "source": [
    "## Functions: VaR & ES"
   ]
  },
  {
   "cell_type": "code",
   "execution_count": null,
   "id": "d094c801",
   "metadata": {},
   "outputs": [],
   "source": [
    "def var_es_from_returns(rets, alpha=0.99):\n",
    "    rets = np.asarray(rets)\n",
    "    q = np.percentile(rets, (1-alpha)*100.0)\n",
    "    es = rets[rets <= q].mean() if (rets <= q).size>0 else q\n",
    "    return q, es\n",
    "\n",
    "def pnl_to_returns(pnl_series):\n",
    "    eq = 1_000_000 + pnl_series.values\n",
    "    rets = pd.Series(eq).pct_change().dropna().values\n",
    "    return rets\n",
    "\n",
    "def print_var_es(label, rets, levels=(0.95, 0.99)):\n",
    "    print(f'--- {label} ---')\n",
    "    for a in levels:\n",
    "        var, es = var_es_from_returns(rets, a)\n",
    "        print(f'{int(a*100)}% VaR: {var:.4f} | ES: {es:.4f}')"
   ]
  },
  {
   "cell_type": "markdown",
   "id": "e7d911e2",
   "metadata": {},
   "source": [
    "## Historical (Non-parametric) VaR/ES"
   ]
  },
  {
   "cell_type": "code",
   "execution_count": null,
   "id": "9811053f",
   "metadata": {},
   "outputs": [],
   "source": [
    "rets_hist = pnl_to_returns(pnl)\n",
    "print_var_es('Historical', rets_hist)\n",
    "plt.figure(); plt.hist(rets_hist, bins=60, alpha=0.7); plt.title('Historical Return Distribution'); plt.show() # type: ignore"
   ]
  },
  {
   "cell_type": "markdown",
   "id": "7ae26a6e",
   "metadata": {},
   "source": [
    "## Parametric VaR/ES (Gaussian) — optional"
   ]
  },
  {
   "cell_type": "code",
   "execution_count": null,
   "id": "cef65ca3",
   "metadata": {},
   "outputs": [],
   "source": [
    "if HAVE_SCIPY:\n",
    "    mu, sd = np.mean(rets_hist), np.std(rets_hist) # type: ignore\n",
    "    for a in (0.95, 0.99):\n",
    "        z = norm.ppf(1-a)\n",
    "        var = mu + sd*z\n",
    "        # ES for normal: mu - sd * phi(z)/(1-a)\n",
    "        es = mu - sd * (norm.pdf(z)/(1-a))\n",
    "        print(f'Parametric Normal {int(a*100)}% VaR: {var:.4f} | ES: {es:.4f}')\n",
    "else:\n",
    "    print('SciPy not available -> skipping parametric VaR/ES')"
   ]
  },
  {
   "cell_type": "markdown",
   "id": "64705e3f",
   "metadata": {},
   "source": [
    "## Monte Carlo (Single-asset) — horizon aggregation"
   ]
  },
  {
   "cell_type": "code",
   "execution_count": null,
   "id": "7710a5c1",
   "metadata": {},
   "outputs": [],
   "source": [
    "mu, sd = np.mean(rets_hist), np.std(rets_hist) # type: ignore\n",
    "n_sims, horizon = 20000, 10\n",
    "paths = np.random.normal(mu, sd, (n_sims, horizon))\n",
    "agg = paths.sum(axis=1)\n",
    "print_var_es(f'Monte Carlo {horizon}d (single-asset)', agg)\n",
    "plt.figure(); plt.hist(agg, bins=60, alpha=0.7); plt.title(f'Monte Carlo {horizon}-day PnL (returns sum)'); plt.show()"
   ]
  },
  {
   "cell_type": "markdown",
   "id": "83138cb2",
   "metadata": {},
   "source": [
    "## Monte Carlo (Multi-asset, correlated)"
   ]
  },
  {
   "cell_type": "code",
   "execution_count": null,
   "id": "9e431952",
   "metadata": {},
   "outputs": [],
   "source": [
    "def mc_correlated(R, n_sims=20000, horizon=10):\n",
    "    mu = R.mean().values\n",
    "    S  = R.cov().values\n",
    "    # Cholesky (fallback to eigen if not PD)\n",
    "    try:\n",
    "        L = np.linalg.cholesky(S)\n",
    "    except np.linalg.LinAlgError:\n",
    "        evals, evecs = np.linalg.eigh(S)\n",
    "        evals = np.clip(evals, 1e-10, None)\n",
    "        L = evecs @ np.diag(np.sqrt(evals))\n",
    "    n = len(mu)\n",
    "    res = []\n",
    "    w = np.ones(n)/n\n",
    "    for _ in range(n_sims):\n",
    "        acc = 0.0\n",
    "        for _h in range(horizon):\n",
    "            z = np.random.normal(size=n)\n",
    "            r = mu + L @ z\n",
    "            acc += float(w @ r)\n",
    "        res.append(acc)\n",
    "    return np.array(res)\n",
    "\n",
    "agg_multi = mc_correlated(R, 20000, 10)\n",
    "print_var_es('Monte Carlo (multi-asset, 10d)', agg_multi)\n",
    "plt.figure(); plt.hist(agg_multi, bins=60, alpha=0.7); plt.title('MC Multi-asset 10d PnL (returns sum)'); plt.show()"
   ]
  },
  {
   "cell_type": "markdown",
   "id": "c7d09a48",
   "metadata": {},
   "source": [
    "## Stress Scenarios (what-if shocks)"
   ]
  },
  {
   "cell_type": "code",
   "execution_count": null,
   "id": "bfeb7e75",
   "metadata": {},
   "outputs": [],
   "source": [
    "def shock_series(rets, drop=0.03, days=20):\n",
    "    rets = rets.copy()\n",
    "    if len(rets) < days:\n",
    "        days = max(1, len(rets)//5)\n",
    "    rets[:days] = rets[:days] - drop\n",
    "    return rets\n",
    "\n",
    "scenarios = {\n",
    "    'COVID-like (20d -3%)': dict(drop=0.03, days=20),\n",
    "    'Flash Crash (2d -7%)': dict(drop=0.07, days=2),\n",
    "    'Slow Bear (60d -0.5%)': dict(drop=0.005, days=60),\n",
    "}\n",
    "\n",
    "for name, params in scenarios.items():\n",
    "    r2 = shock_series(rets_hist.copy(), **params) # type: ignore\n",
    "    print_var_es(name, r2)\n",
    "    plt.figure(); plt.hist(r2, bins=60, alpha=0.7); plt.title(f'Returns under {name}'); plt.show() # type: ignore"
   ]
  },
  {
   "cell_type": "markdown",
   "id": "7f73693f",
   "metadata": {},
   "source": [
    "## Liquidity Haircut + Correlation Breakdown (MC)"
   ]
  },
  {
   "cell_type": "code",
   "execution_count": null,
   "id": "844dd7fd",
   "metadata": {},
   "outputs": [],
   "source": [
    "def apply_corr_break(R, vol_scale=1.5, corr_break=0.4):\n",
    "    mu = R.mean().values\n",
    "    S  = R.cov().values\n",
    "    d = np.sqrt(np.diag(S))\n",
    "    C = S / (d[:,None]*d[None,:] + 1e-12)\n",
    "    C2 = (1-corr_break)*C + corr_break*np.eye(len(mu))\n",
    "    d2 = d * vol_scale\n",
    "    S2 = (d2[:,None]*d2[None,:]) * C2\n",
    "    return mu, S2\n",
    "\n",
    "mu2, S2 = apply_corr_break(R, vol_scale=2.0, corr_break=0.5)\n",
    "n = len(mu2)\n",
    "try:\n",
    "    L2 = np.linalg.cholesky(S2)\n",
    "except np.linalg.LinAlgError:\n",
    "    e, V = np.linalg.eigh(S2)\n",
    "    e = np.clip(e, 1e-12, None)\n",
    "    L2 = V @ np.diag(np.sqrt(e))\n",
    "\n",
    "n_sims, horizon = 20000, 10\n",
    "w = np.ones(n)/n\n",
    "acc = []\n",
    "for _ in range(n_sims):\n",
    "    s = 0.0\n",
    "    for _h in range(horizon):\n",
    "        z = np.random.normal(size=n)\n",
    "        r = mu2 + L2 @ z # type: ignore\n",
    "        s += float(w @ r)\n",
    "    acc.append(s)\n",
    "acc = np.array(acc)\n",
    "print_var_es('Liquidity+CorrBreak MC 10d', acc)\n",
    "plt.figure(); plt.hist(acc, bins=60, alpha=0.7); plt.title('Liquidity Haircut + Corr Breakdown (MC 10d)'); plt.show()"
   ]
  }
 ],
 "metadata": {
  "kernelspec": {
   "display_name": "Python 3",
   "language": "python",
   "name": "python3"
  },
  "language_info": {
   "name": "python",
   "version": "3.10"
  }
 },
 "nbformat": 4,
 "nbformat_minor": 5
}
